{
 "cells": [
  {
   "cell_type": "code",
   "execution_count": null,
   "id": "8ead9d09",
   "metadata": {},
   "outputs": [],
   "source": [
    "import time\n",
    "import board\n",
    "import busio\n",
    "import numpy as np\n",
    "import cv2\n",
    "import datetime\n",
    "from opcua import Client\n",
    "from adafruit_mlx90640 import MLX90640\n",
    "from telegram import Bot\n",
    "import RPi.GPIO as GPIO"
   ]
  },
  {
   "cell_type": "code",
   "execution_count": null,
   "id": "064288d7",
   "metadata": {},
   "outputs": [],
   "source": [
    "# --- Telegram Configuration\n",
    "TELEGRAM_BOT_TOKEN = 'YOUR_BOT_TOKEN'  # Replace with your actual bot token\n",
    "CHAT_ID = 'YOUR_CHAT_ID'              # Replace with the chat ID of the recipient\n",
    "bot = Bot(token=TELEGRAM_BOT_TOKEN)"
   ]
  },
  {
   "cell_type": "code",
   "execution_count": null,
   "id": "b0855634",
   "metadata": {},
   "outputs": [],
   "source": [
    "# --- OPC UA Configuration (PLC)\n",
    "PLC_URL = \"opc.tcp://localhost:4840\"\n",
    "NODE_ID = \"ns=2;s=OPC_Daten.Anlage_ausschalten\"  # Node ID to trigger system shutdown"
   ]
  },
  {
   "cell_type": "code",
   "execution_count": null,
   "id": "49bd70fa",
   "metadata": {},
   "outputs": [],
   "source": [
    "# --- MLX90640 Thermal Camera Setup\n",
    "i2c = busio.I2C(board.SCL, board.SDA, frequency=400000)\n",
    "mlx = MLX90640(i2c)\n",
    "mlx.refresh_rate = MLX90640.RefreshRate.4_HZ  # Set to 4Hz frame capture rate"
   ]
  },
  {
   "cell_type": "code",
   "execution_count": null,
   "id": "9c537719",
   "metadata": {},
   "outputs": [],
   "source": [
    "# --- Threshold and Image Settings\n",
    "TEMPERATURE_THRESHOLD = 30.0  # Temperature in Celsius\n",
    "IMAGE_SHAPE = (24, 32)        # MLX90640 resolution"
   ]
  },
  {
   "cell_type": "code",
   "execution_count": null,
   "id": "29ef6a05",
   "metadata": {},
   "outputs": [],
   "source": [
    "# --- Buzzer Configuration (Optional)\n",
    "BUZZER_PIN = 18\n",
    "GPIO.setmode(GPIO.BCM)\n",
    "GPIO.setup(BUZZER_PIN, GPIO.OUT)"
   ]
  },
  {
   "cell_type": "code",
   "execution_count": null,
   "id": "176063b7",
   "metadata": {},
   "outputs": [],
   "source": [
    "def capture_frame():\n",
    "    \"\"\"\n",
    "    Captures a single frame from the thermal camera and returns it as a 2D NumPy array.\n",
    "    \"\"\"\n",
    "    frame = [0] * 768\n",
    "    mlx.getFrame(frame)\n",
    "    thermal_array = np.reshape(frame, IMAGE_SHAPE)\n",
    "    return thermal_array\n",
    "\n",
    "def save_thermal_image(array, filename):\n",
    "    \"\"\"\n",
    "    Normalizes and resizes the thermal image, then saves it as a .jpg file.\n",
    "    \"\"\"\n",
    "    normalized = cv2.normalize(array, None, 0, 255, cv2.NORM_MINMAX)\n",
    "    image = np.uint8(normalized)\n",
    "    resized_image = cv2.resize(image, (320, 240), interpolation=cv2.INTER_LINEAR)\n",
    "    cv2.imwrite(filename, resized_image)\n",
    "\n",
    "def send_telegram_alert(temperature, image_path):\n",
    "    \"\"\"\n",
    "    Sends a temperature warning message and image to a Telegram chat.\n",
    "    \"\"\"\n",
    "    alert_message = f\" Fire Alert: High temperature detected!\\n🌡️ Temperature: {temperature:.2f} °C\"\n",
    "    bot.send_message(chat_id=CHAT_ID, text=alert_message)\n",
    "    with open(image_path, 'rb') as photo:\n",
    "        bot.send_photo(chat_id=CHAT_ID, photo=photo)\n",
    "\n",
    "def shutdown_machine():\n",
    "    \"\"\"\n",
    "    Connects to a PLC using OPC UA and sets the shutdown signal node to True.\n",
    "    \"\"\"\n",
    "    try:\n",
    "        client = Client(PLC_URL)\n",
    "        client.connect()\n",
    "        node = client.get_node(NODE_ID)\n",
    "        node.set_value(True)\n",
    "        print(\"Shutdown signal sent to PLC.\")\n",
    "        client.disconnect()\n",
    "    except Exception as e:\n",
    "        print(\"Error connecting to PLC:\", e)\n",
    "\n",
    "def trigger_buzzer(duration=5):\n",
    "    \"\"\"\n",
    "    Activates the buzzer for a specified number of seconds.\n",
    "    \"\"\"\n",
    "    GPIO.output(BUZZER_PIN, GPIO.HIGH)\n",
    "    time.sleep(duration)\n",
    "    GPIO.output(BUZZER_PIN, GPIO.LOW)\n",
    "\n",
    "def monitor_temperature():\n",
    "    \"\"\"\n",
    "    Main monitoring loop. Continuously reads the thermal camera and responds to high temperatures.\n",
    "    \"\"\"\n",
    "    while True:\n",
    "        try:\n",
    "            thermal_data = capture_frame()\n",
    "            max_temp = np.max(thermal_data)\n",
    "            print(\"Max Temperature:\", max_temp)\n",
    "\n",
    "            if max_temp >= TEMPERATURE_THRESHOLD:\n",
    "                timestamp = datetime.datetime.now().strftime(\"%Y%m%d_%H%M%S\")\n",
    "                image_filename = f\"thermal_alert_{timestamp}.jpg\"\n",
    "                \n",
    "                save_thermal_image(thermal_data, image_filename)\n",
    "                send_telegram_alert(max_temp, image_filename)\n",
    "                trigger_buzzer()\n",
    "                shutdown_machine()\n",
    "\n",
    "                time.sleep(30)  # Delay to avoid repeated alerts\n",
    "            else:\n",
    "                time.sleep(2)\n",
    "\n",
    "        except Exception as error:\n",
    "            print(\"Error during monitoring:\", error)\n",
    "            time.sleep(5)\n",
    "\n",
    "# --- Start Monitoring\n",
    "try:\n",
    "    monitor_temperature()\n",
    "except KeyboardInterrupt:\n",
    "    print(\"Monitoring stopped by user.\")\n",
    "    GPIO.cleanup()"
   ]
  }
 ],
 "metadata": {
  "kernelspec": {
   "display_name": "Python 3 (ipykernel)",
   "language": "python",
   "name": "python3"
  },
  "language_info": {
   "codemirror_mode": {
    "name": "ipython",
    "version": 3
   },
   "file_extension": ".py",
   "mimetype": "text/x-python",
   "name": "python",
   "nbconvert_exporter": "python",
   "pygments_lexer": "ipython3",
   "version": "3.9.13"
  }
 },
 "nbformat": 4,
 "nbformat_minor": 5
}
